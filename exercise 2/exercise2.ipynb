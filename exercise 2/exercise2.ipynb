{
 "cells": [
  {
   "cell_type": "code",
   "execution_count": 8,
   "id": "30bf841e",
   "metadata": {},
   "outputs": [
    {
     "name": "stdout",
     "output_type": "stream",
     "text": [
      "['kucing', 'kelinci', 'burung']\n",
      "['kucing', 'kelinci', 'burung', 'ikan']\n",
      "['kucing', 'kelinci', 'ayam', 'ikan']\n",
      "['kucing', 'ayam', 'ikan']\n"
     ]
    }
   ],
   "source": [
    "list_hewan = ['kucing', 'kelinci', 'burung']\n",
    "print(list_hewan)\n",
    "\n",
    "list_hewan.append(\"ikan\")\n",
    "print(list_hewan)\n",
    "\n",
    "list_hewan[2] = \"ayam\"\n",
    "print(list_hewan)\n",
    "\n",
    "list_hewan.remove(\"kelinci\")\n",
    "print(list_hewan)\n"
   ]
  },
  {
   "cell_type": "code",
   "execution_count": 16,
   "id": "a8667781",
   "metadata": {},
   "outputs": [
    {
     "name": "stdout",
     "output_type": "stream",
     "text": [
      "Irisan:  {'mangga'}\n",
      "Buah hanya di A:  {'jeruk', 'apel'}\n",
      "Buah A setelah ditambah:  {'jeruk', 'nanas', 'apel', 'mangga'}\n"
     ]
    }
   ],
   "source": [
    "buah_a = {\"apel\", \"mangga\", \"jeruk\"}\n",
    "buah_b = {\"mangga\", \"anggur\", \"pisang\"}\n",
    "\n",
    "print(\"Irisan: \", buah_a & buah_b)\n",
    "\n",
    "print(\"Buah hanya di A: \", buah_a - buah_b)\n",
    "\n",
    "buah_a.add(\"nanas\")\n",
    "print(\"Buah A setelah ditambah: \", buah_a)"
   ]
  },
  {
   "cell_type": "code",
   "execution_count": null,
   "id": "2a58be09",
   "metadata": {},
   "outputs": [],
   "source": []
  }
 ],
 "metadata": {
  "kernelspec": {
   "display_name": "Python 3",
   "language": "python",
   "name": "python3"
  },
  "language_info": {
   "codemirror_mode": {
    "name": "ipython",
    "version": 3
   },
   "file_extension": ".py",
   "mimetype": "text/x-python",
   "name": "python",
   "nbconvert_exporter": "python",
   "pygments_lexer": "ipython3",
   "version": "3.13.7"
  }
 },
 "nbformat": 4,
 "nbformat_minor": 5
}
