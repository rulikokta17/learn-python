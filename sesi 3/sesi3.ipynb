{
 "cells": [
  {
   "cell_type": "code",
   "execution_count": 11,
   "id": "c0155b44",
   "metadata": {},
   "outputs": [
    {
     "name": "stdout",
     "output_type": "stream",
     "text": [
      "['Angel', 'Jo', 'Aqzha', 'Rulik']\n",
      "['Angel', 'Jo', 'Aqzha', 'Rulik', 'Rison']\n",
      "['Farel', 'Angel', 'Jo', 'Aqzha', 'Rulik', 'Rison']\n",
      "['Farel', 'Angel', 'Aqzha', 'Rulik', 'Rison']\n",
      "['Farel', 'Angel', 'Aqzha', 'Rison']\n",
      "List Siswa:  ['Farel', 'Angel', 'Aqzha', 'Rison']\n",
      "nama :  Angel\n",
      "['Farel', 'Angel', 'Aqzha']\n",
      "['Farel', 'Farel', 'Angel', 'Aqzha', 'Rison']\n",
      "['Angel', 'Aqzha', 'Farel', 'Farel', 'Rison']\n"
     ]
    }
   ],
   "source": [
    "# List = Daftar\n",
    "list_siswa = [\"Angel\", \"Jo\", \"Aqzha\", \"Rulik\"] # kita membuat list kosong\n",
    "\n",
    "print(list_siswa)\n",
    "\n",
    "# method untuk menambahkan data ke dalam list\n",
    "# append(), insert()\n",
    "\n",
    "list_siswa.append(\"Rison\")\n",
    "print(list_siswa)\n",
    "\n",
    "# farel ke posisi awal/pertama didalam list kita\n",
    "list_siswa.insert(0, \"Farel\") # (posisi, nama_object)\n",
    "print(list_siswa)\n",
    "\n",
    "# method untuk menghapus data di dalam list\n",
    "# remove() dan pop()\n",
    "\n",
    "# Jo di dalam list dihapus\n",
    "list_siswa.remove(\"Jo\") # case sensitive => j = J\n",
    "print(list_siswa)\n",
    "\n",
    "# posisi -> pop => kita harus tau posisinya terlebih dahulu\n",
    "list_siswa.pop(3)\n",
    "print(list_siswa)\n",
    "\n",
    "# cara akses list\n",
    "print(\"List Siswa: \", list_siswa)\n",
    "\n",
    "# akses nama dari angel\n",
    "print(\"nama : \", list_siswa[1]) # akses index posisi 1\n",
    "\n",
    "# akses beberapa value dalam list\n",
    "print(list_siswa[0:3]) #start : stop/batas atas\n",
    "\n",
    "# list bisa duplicate data\n",
    "list_siswa.insert(0, \"Farel\") # insert(posisi, nama object)\n",
    "print(list_siswa)\n",
    "\n",
    "# urutkan list dengan method sort\n",
    "list_siswa.sort()\n",
    "print(list_siswa)"
   ]
  },
  {
   "cell_type": "code",
   "execution_count": 18,
   "id": "ed7a3579",
   "metadata": {},
   "outputs": [
    {
     "name": "stdout",
     "output_type": "stream",
     "text": [
      "{'Cici', 'Bagus', 'Sigit', 'Edy'}\n",
      "{'Cici', 'Edy', 'Angel', 'Bagus', 'Sigit'}\n",
      "{'Cici', 'Edy', 'Angel', 'Bagus', 'Sigit'}\n",
      "Data siswa Setelah dihapus {'Edy', 'Angel', 'Bagus', 'Sigit'}\n",
      "Data Siswa Setelah dihapus {'Edy', 'Angel', 'Bagus', 'Sigit'}\n",
      "Print Gabungan:  {'Cici', 'Edy', 'Angel', 'Bagus', 'Sigit'}\n",
      "Intersection:  {'Bagus', 'Sigit', 'Edy', 'Angel'}\n",
      "Selisih A dan B {'Cici'}\n"
     ]
    }
   ],
   "source": [
    "# Set = Himpunan -> {}\n",
    "set_siswa = {\"Cici\", \"Sigit\", \"Edy\", \"Bagus\"} # tidak berurut\n",
    "print(set_siswa)\n",
    "\n",
    "# method untuk menambah data -> add()\n",
    "set_siswa.add(\"Angel\")\n",
    "print(set_siswa)\n",
    "\n",
    "# tidak bisa duplikat\n",
    "set_siswa.add(\"Sigit\")\n",
    "print(set_siswa)\n",
    "\n",
    "# method untuk menghapus data -> remove(), discard()\n",
    "set_siswa.remove(\"Cici\")\n",
    "print(\"Data siswa Setelah dihapus\", set_siswa) # baris ini dicetak\n",
    "\n",
    "# method discard()\n",
    "set_siswa.discard(\"sigit\")\n",
    "print(\"Data Siswa Setelah dihapus\", set_siswa)\n",
    "\n",
    "# intersection(irisan), join (gabungan), selisih\n",
    "set_siswa_a = {'Sigit', 'Edy', 'Bagus', 'Cici'}\n",
    "set_siswa_b = {'Bagus', 'Angel', 'Edy', 'Sigit'}\n",
    "\n",
    "# join (gabungan)\n",
    "print(\"Print Gabungan: \", set_siswa_a | set_siswa_b)\n",
    "\n",
    "# intersection(irisan)\n",
    "print(\"Intersection: \", set_siswa & set_siswa_b)\n",
    "\n",
    "# selisih\n",
    "print(\"Selisih A dan B\", set_siswa_a - set_siswa_b)"
   ]
  },
  {
   "cell_type": "code",
   "execution_count": 31,
   "id": "9e93d034",
   "metadata": {},
   "outputs": [
    {
     "name": "stdout",
     "output_type": "stream",
     "text": [
      "{'Edy': 889, 'Rison': 887, 'Pat': 886, 'Angel': 885}\n",
      "{'Edy': 889, 'Rison': 887, 'Pat': 888, 'Angel': 885}\n",
      "{'Edy': 889, 'Rison': 887, 'Pat': 888, 'Angel': 885, 'Rulik': 884}\n",
      "{'Edy': 889, 'Rison': 887, 'Pat': 888, 'Rulik': 884}\n",
      "{'Rison': 887, 'Pat': 888, 'Rulik': 884}\n",
      "dict_keys(['Rison', 'Pat', 'Rulik'])\n",
      "dict_values([887, 888, 884])\n",
      "dict_items([('Rison', 887), ('Pat', 888), ('Rulik', 884)])\n"
     ]
    }
   ],
   "source": [
    "# Dictionary\n",
    "kontak_telpon = {\n",
    "    #key:value\n",
    "    \"Edy\": 889,\n",
    "    \"Rison\": 887,\n",
    "    \"Pat\": 886,\n",
    "    \"Angel\": 885\n",
    "}\n",
    "print(kontak_telpon)\n",
    "\n",
    "# indexing => cara akses dalam dictionary / merubah\n",
    "kontak_telpon[\"Pat\"] = 888\n",
    "print(kontak_telpon)\n",
    "\n",
    "# tambahkan data Rulik\n",
    "kontak_telpon[\"Rulik\"] = 884\n",
    "print(kontak_telpon)\n",
    "\n",
    "# method del dan pop()\n",
    "kontak_telpon.pop(\"Angel\")\n",
    "print(kontak_telpon)\n",
    "\n",
    "# method del\n",
    "del kontak_telpon[\"Edy\"]\n",
    "print(kontak_telpon)\n",
    "\n",
    "# hanya akses keys()\n",
    "print(kontak_telpon.keys())\n",
    "\n",
    "# hanya akses values()\n",
    "print(kontak_telpon.values())\n",
    "\n",
    "# akses items() => keys - values\n",
    "print(kontak_telpon.items())"
   ]
  },
  {
   "cell_type": "code",
   "execution_count": null,
   "id": "23eab444",
   "metadata": {},
   "outputs": [
    {
     "name": "stdout",
     "output_type": "stream",
     "text": [
      "Halo teman-teman semua, senang bertemu dengan kalian\n",
      "Halo teman-teman semua, nama saya Patt\n",
      "15\n",
      "10\n",
      "7\n",
      "Halo nama saya Rison, saya berada di Indonesia\n"
     ]
    }
   ],
   "source": [
    "# Function = blok kode yang dapat kita panggil berulang kali / terorganisir\n",
    "\n",
    "# jenis dari function\n",
    "\n",
    "'''\n",
    "-> sintax function in python\n",
    "\n",
    "def nama_function(nama_parameter):\n",
    "    # isi function\n",
    "    return value\n",
    "    \n",
    "# cara panggil\n",
    "nama_function(nama_parameter)\n",
    "'''\n",
    "\n",
    "# 1. function tanpa parameter-> tanpa nilai yg diisi\n",
    "def sapa():\n",
    "    print(\"Halo teman-teman semua, senang bertemu dengan kalian\")\n",
    "    \n",
    "# panggil function\n",
    "sapa()\n",
    "\n",
    "# 2. function dengan parameter -> ada nilai yang perlu kita isi\n",
    "def sapa(nama):\n",
    "    print(f\"Halo teman-teman semua, nama saya {nama}\")\n",
    "    \n",
    "# panggil function\n",
    "nama = \"Angela\"\n",
    "sapa(\"Patt\")\n",
    "\n",
    "# 3. function dengan nilai kembali -> return value\n",
    "def tambah(angka1, angka2):\n",
    "    return angka1 + angka2\n",
    "\n",
    "print(tambah(5, 10))\n",
    "print(tambah(5, 5))\n",
    "print(tambah(5, 2))\n",
    "\n",
    "# 4. function dengan default parameter\n",
    "def sapa(nama, lokasi = \"German\"):\n",
    "    print(f\"Halo nama saya {nama}, saya berada di {lokasi}\")\n",
    "    \n",
    "sapa(\"Rison\", \"Indonesia\")   "
   ]
  },
  {
   "cell_type": "code",
   "execution_count": 35,
   "id": "5c74ad23",
   "metadata": {},
   "outputs": [
    {
     "name": "stdout",
     "output_type": "stream",
     "text": [
      "153.86\n"
     ]
    }
   ],
   "source": [
    "def luas_lingkaran(r, phi=3.14):\n",
    "    return phi * (r ** 2)\n",
    "\n",
    "print(luas_lingkaran(7))\n"
   ]
  },
  {
   "cell_type": "code",
   "execution_count": 36,
   "id": "78f67be8",
   "metadata": {},
   "outputs": [
    {
     "name": "stdout",
     "output_type": "stream",
     "text": [
      "hello teman-teman semua\n",
      "hello teman-teman semua\n",
      "hello teman-teman semua\n",
      "hello teman-teman semua\n",
      "hello teman-teman semua\n",
      "hello teman-teman semua\n",
      "hello teman-teman semua\n",
      "hello teman-teman semua\n",
      "hello teman-teman semua\n",
      "hello teman-teman semua\n"
     ]
    }
   ],
   "source": [
    "for i in range(1, 11):\n",
    "    print(\"hello teman-teman semua\")"
   ]
  },
  {
   "cell_type": "code",
   "execution_count": 37,
   "id": "4d86ce58",
   "metadata": {},
   "outputs": [
    {
     "name": "stdout",
     "output_type": "stream",
     "text": [
      "1\n",
      "2\n",
      "3\n",
      "4\n",
      "5\n",
      "6\n",
      "7\n",
      "8\n",
      "9\n",
      "10\n",
      "Nama Siswa:  Angel\n",
      "Nama Siswa:  Aqzha\n",
      "Nama Siswa:  Rulik\n",
      "Nama Siswa:  Farel\n",
      "Nama Siswa:  Rison\n"
     ]
    }
   ],
   "source": [
    "# looping for\n",
    "'''\n",
    "sintax\n",
    "i = insialisasi untuk data kita\n",
    "in range() = rentang data kita\n",
    "for i in range() # start, stop, step\n",
    "    blok kode\n",
    "'''\n",
    "\n",
    "for i in range(1, 11): #start, stop/batas atas\n",
    "    print(i)\n",
    "    \n",
    "# looping list siswa\n",
    "list_siswa = ['Angel', 'Aqzha', 'Rulik', 'Farel', 'Rison']\n",
    "for i in list_siswa:\n",
    "    print(\"Nama Siswa: \", i)\n",
    "    "
   ]
  },
  {
   "cell_type": "code",
   "execution_count": 38,
   "id": "3417aae2",
   "metadata": {},
   "outputs": [
    {
     "name": "stdout",
     "output_type": "stream",
     "text": [
      "Bilangan Genap:  2\n",
      "Bilangan Genap:  4\n",
      "Bilangan Genap:  6\n",
      "Bilangan Genap:  8\n",
      "Bilangan Genap:  10\n",
      "Bilangan Genap:  12\n",
      "Bilangan Genap:  14\n",
      "Bilangan Genap:  16\n",
      "Bilangan Genap:  18\n",
      "Bilangan Genap:  20\n"
     ]
    }
   ],
   "source": [
    "# mencetak bil genap 1 - 20\n",
    "for i in range(2, 21, 2): #start, stop/batas atas, step\n",
    "    print(\"Bilangan Genap: \", i)"
   ]
  },
  {
   "cell_type": "code",
   "execution_count": 39,
   "id": "e30c0622",
   "metadata": {},
   "outputs": [
    {
     "name": "stdout",
     "output_type": "stream",
     "text": [
      "5 x 1: 5\n",
      "5 x 2: 10\n",
      "5 x 3: 15\n",
      "5 x 4: 20\n",
      "5 x 5: 25\n",
      "5 x 6: 30\n",
      "5 x 7: 35\n",
      "5 x 8: 40\n",
      "5 x 9: 45\n",
      "5 x 10: 50\n"
     ]
    }
   ],
   "source": [
    "# tabel perkalian angka 5\n",
    "for i in range(1, 11):\n",
    "    print(f\"{5} x {i}: {i * 5}\")"
   ]
  },
  {
   "cell_type": "code",
   "execution_count": 43,
   "id": "ae2451c0",
   "metadata": {},
   "outputs": [
    {
     "name": "stdout",
     "output_type": "stream",
     "text": [
      "0\n",
      "1\n",
      "2\n",
      "3\n",
      "4\n",
      "5\n",
      "6\n",
      "7\n",
      "8\n",
      "9\n",
      "10\n"
     ]
    }
   ],
   "source": [
    "# perulangan while\n",
    "\n",
    "\"\"\"\n",
    "inisialisasi => angka start\n",
    "\n",
    "while kondisi == true:\n",
    "    eksekusi kode ini\n",
    "    increment = penambahan\n",
    "    decrement = pengurangan\n",
    "\"\"\"\n",
    "\n",
    "i = 0\n",
    "\n",
    "while i <= 10:\n",
    "    print(i)\n",
    "#    i = i + 1 # -> i += i\n",
    "    i += 1"
   ]
  },
  {
   "cell_type": "code",
   "execution_count": 47,
   "id": "c6349506",
   "metadata": {},
   "outputs": [
    {
     "name": "stdout",
     "output_type": "stream",
     "text": [
      "Selamat, Login Berhasil\n"
     ]
    }
   ],
   "source": [
    "# validasi password pakai looping while\n",
    "\n",
    "password = \"\"\n",
    "\n",
    "while password != \"python123\":\n",
    "    password = input(\"masukan password: \")\n",
    "    if password != \"python123\":\n",
    "        print(\"Salah! Coba Lagi\")\n",
    "        \n",
    "print(\"Selamat, Login Berhasil\")"
   ]
  }
 ],
 "metadata": {
  "kernelspec": {
   "display_name": "Python 3",
   "language": "python",
   "name": "python3"
  },
  "language_info": {
   "codemirror_mode": {
    "name": "ipython",
    "version": 3
   },
   "file_extension": ".py",
   "mimetype": "text/x-python",
   "name": "python",
   "nbconvert_exporter": "python",
   "pygments_lexer": "ipython3",
   "version": "3.13.7"
  }
 },
 "nbformat": 4,
 "nbformat_minor": 5
}
