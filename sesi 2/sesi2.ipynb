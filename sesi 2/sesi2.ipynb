{
 "cells": [
  {
   "cell_type": "code",
   "execution_count": null,
   "id": "74da5e31",
   "metadata": {},
   "outputs": [],
   "source": [
    "# ini adalah baris komentar\n",
    "# baris komentar -> baris yang tidak akan dieksekusi/dijalankan\n",
    "# untuk deskripsi dari kodingan/dokumentasi\n",
    "\n",
    "# single line komentar -> komentar satu baris\n",
    "'''\n",
    "ini komentar baris 1\n",
    "ini komentar baris 2\n",
    "-> ingat kita harus mengapit di dalam tanda petik \"\" atau ''\n",
    "'''\n",
    "\n",
    "# komentar juga bisa digunakan untuk mematikan kode"
   ]
  },
  {
   "cell_type": "code",
   "execution_count": null,
   "id": "e0ac03e4",
   "metadata": {},
   "outputs": [],
   "source": [
    "# Variabel => gelas => air mineral, kopi, teh, susu\n",
    "\n",
    "angka = 23 # membuat variable dengan nama 'angka'\n",
    "tinggi = 170 # membuat variable dengan nama 'tinggi'\n",
    "\n",
    "#usia siswa = 23 # ini tidak boleh karena ada spasi\n",
    "\n",
    "# rekomendasi penulisan di variable\n",
    "\n",
    "#camel case\n",
    "UsiaSiswa = 23\n",
    "\n",
    "# snake case\n",
    "usiaSiswa = 23\n",
    "\n",
    "# pascal case\n",
    "usia_siswa = 23\n",
    "\n",
    " # case sensitive di python\n",
    " usia_siswa X UsiaSiswa\n",
    " \n",
    " # dalam membuat variable usahakan sesuai konteks\n",
    " nama_siswa = 179 # ini tidak sesuai konteks\n",
    " \n",
    " # yang tidak boleh dalam memberikan nama variabel\n",
    " # 12nama_usia = \"ario\" -> tidak boleh karena ada angka di depan\n",
    " \n",
    " # tidak boleh menggunakan simbol khusus @ # $ % &\n",
    " # nama_siswa = \"ario\"\n",
    " \n",
    " # boleh angka dibelakang\n",
    " usia_siswa1 = 23\n",
    " \n",
    " # Usia X usia\n",
    " \n",
    " # nama_siswa@ = \"sigit\"\n",
    " # tidak boleh\n",
    " # print(nama_siswa)"
   ]
  },
  {
   "cell_type": "code",
   "execution_count": 1,
   "id": "35b04fe9",
   "metadata": {},
   "outputs": [
    {
     "name": "stdout",
     "output_type": "stream",
     "text": [
      "<class 'str'>\n",
      "<class 'int'>\n",
      "<class 'float'>\n"
     ]
    }
   ],
   "source": [
    "# Tipe data\n",
    "# teks = string\n",
    "nama = \"Aqzha\" # ini adalah tipe data string/teks ''\"\"\n",
    "\n",
    "usia_siswa = 22 # ini tipe data int/bilangan bulat\n",
    "\n",
    "tinggi_siswa = 175.4 # ini tipe data float (bil desimal)\n",
    "\n",
    "print(type(nama))\n",
    "print(type(usia_siswa))\n",
    "print(type(tinggi_siswa))"
   ]
  },
  {
   "cell_type": "code",
   "execution_count": null,
   "id": "5aff5285",
   "metadata": {},
   "outputs": [],
   "source": [
    "# tipe data boolean (2)-> true/false\n",
    "suka_python = True\n",
    "print(type(suka_python))"
   ]
  },
  {
   "cell_type": "code",
   "execution_count": null,
   "id": "03a6135a",
   "metadata": {},
   "outputs": [
    {
     "name": "stdout",
     "output_type": "stream",
     "text": [
      "<class 'list'>\n"
     ]
    }
   ],
   "source": [
    "# tipe data urutan\n",
    "\n",
    "# list => daftar => [] => semua dimulai dari index [0] => urutan 0\n",
    "\n",
    "nama_siswa_kelas = [\"Edy\", \"Patt\", \"Sigit\", \"Rison\", \"Angel\"]\n",
    "print(type(nama_siswa_kelas))"
   ]
  },
  {
   "cell_type": "code",
   "execution_count": 3,
   "id": "d9160015",
   "metadata": {},
   "outputs": [
    {
     "name": "stdout",
     "output_type": "stream",
     "text": [
      "Edy\n"
     ]
    }
   ],
   "source": [
    "print(nama_siswa_kelas[0]) # urutan pertama dari list"
   ]
  },
  {
   "cell_type": "code",
   "execution_count": 4,
   "id": "21307271",
   "metadata": {},
   "outputs": [
    {
     "name": "stdout",
     "output_type": "stream",
     "text": [
      "<class 'tuple'>\n"
     ]
    }
   ],
   "source": [
    "# tuple => tidak bisa diubah ketika sudah dibuat => ()\n",
    "nama_hari = (\"senin\", \"selasa\", \"rabu\")\n",
    "print(type(nama_hari))"
   ]
  },
  {
   "cell_type": "code",
   "execution_count": 6,
   "id": "6d98796c",
   "metadata": {},
   "outputs": [
    {
     "name": "stdout",
     "output_type": "stream",
     "text": [
      "senin\n"
     ]
    }
   ],
   "source": [
    "print(nama_hari[0])"
   ]
  },
  {
   "cell_type": "code",
   "execution_count": null,
   "id": "6ecab382",
   "metadata": {},
   "outputs": [
    {
     "name": "stdout",
     "output_type": "stream",
     "text": [
      "<class 'range'>\n"
     ]
    }
   ],
   "source": [
    "# range => tipe yang rentang => looping\n",
    "angka = range(10) # start = 0, stop\n",
    "print(type(angka))"
   ]
  },
  {
   "cell_type": "code",
   "execution_count": 7,
   "id": "5fd42859",
   "metadata": {},
   "outputs": [
    {
     "name": "stdout",
     "output_type": "stream",
     "text": [
      "<class 'set'>\n"
     ]
    }
   ],
   "source": [
    "# tipe set => himpunan => {}\n",
    "\n",
    "himpunan_nilai = {90, 99, 80, 78}\n",
    "print(type(himpunan_nilai))"
   ]
  },
  {
   "cell_type": "code",
   "execution_count": 8,
   "id": "0c91303a",
   "metadata": {},
   "outputs": [
    {
     "name": "stdout",
     "output_type": "stream",
     "text": [
      "<class 'dict'>\n"
     ]
    }
   ],
   "source": [
    "# dictionary -> kamus -> key:value\n",
    "\n",
    "buku_telepon = {\n",
    "    #key : value\n",
    "    \"sigid\": 889,\n",
    "    \"aqzha\": 887\n",
    "}\n",
    "print(type(buku_telepon))"
   ]
  },
  {
   "cell_type": "code",
   "execution_count": null,
   "id": "ba5fe0c4",
   "metadata": {},
   "outputs": [
    {
     "name": "stdout",
     "output_type": "stream",
     "text": [
      "Nama Saya: senin\n"
     ]
    }
   ],
   "source": [
    "# input / output\n",
    "#input\n",
    "\n",
    "nama = input(\"Masukkan Nama: \")\n",
    "\n",
    "#output\n",
    "print(\"Nama Saya:\", nama)\n",
    "\n",
    "#saat execute lihat kolom di atas dan isi nama yang dipilih"
   ]
  },
  {
   "cell_type": "code",
   "execution_count": 35,
   "id": "e30c379d",
   "metadata": {},
   "outputs": [
    {
     "name": "stdout",
     "output_type": "stream",
     "text": [
      "<class 'int'>\n",
      "<class 'str'>\n",
      "180\n"
     ]
    }
   ],
   "source": [
    "# Casting tipe data -> ingin mengubah tipe data\n",
    "umur = 23 # tipe data int\n",
    "print(type(umur))\n",
    "\n",
    "umur = str(umur) # ubah jadi string\n",
    "print(type(umur))\n",
    "\n",
    "tinggi = 180.8\n",
    "tinggi = int(tinggi)\n",
    "print(tinggi)"
   ]
  },
  {
   "cell_type": "code",
   "execution_count": null,
   "id": "d83df375",
   "metadata": {},
   "outputs": [
    {
     "name": "stdout",
     "output_type": "stream",
     "text": [
      "<class 'int'>\n",
      "10\n"
     ]
    }
   ],
   "source": [
    "angka = '5'\n",
    "angka = int(angka) # jika muncul huruf berarti str dan jika muncul angka berarti int\n",
    "print(type(angka))\n",
    "print(angka * 2)"
   ]
  },
  {
   "cell_type": "code",
   "execution_count": 13,
   "id": "6fd73354",
   "metadata": {},
   "outputs": [
    {
     "name": "stdout",
     "output_type": "stream",
     "text": [
      "J\n",
      "Joseph\n",
      "Joseph Suka Belajar PythonJoseph Suka Belajar Python\n",
      "Hello World\n"
     ]
    }
   ],
   "source": [
    "# String\n",
    "teks = \"Joseph Suka Belajar Python\"\n",
    "\n",
    "# akses urutan dengan indexing => []\n",
    "# akses huruf pertama\n",
    "print(teks[0])\n",
    "\n",
    "# akses kata tertentu (:) -> string slicing\n",
    "print(teks[0:6]) # start:stop(batas berhenti)\n",
    "\n",
    "# mengalikan 2 x \n",
    "print(teks * 2)\n",
    "\n",
    "print(\"Hello World\")"
   ]
  },
  {
   "cell_type": "code",
   "execution_count": 19,
   "id": "8025b2bd",
   "metadata": {},
   "outputs": [
    {
     "name": "stdout",
     "output_type": "stream",
     "text": [
      "nama saya adalah Rison usia saya 24\n"
     ]
    }
   ],
   "source": [
    "# String format => tambah f sebelum tanda petik => {} sebagai placeholder\n",
    "nama = \"Rison\"\n",
    "usia = 24\n",
    "\n",
    "print(f\"nama saya adalah {nama} usia saya {usia}\")"
   ]
  },
  {
   "cell_type": "code",
   "execution_count": 21,
   "id": "e432682d",
   "metadata": {},
   "outputs": [
    {
     "name": "stdout",
     "output_type": "stream",
     "text": [
      "15\n",
      "5\n",
      "2.0\n",
      "50\n",
      "100000\n",
      "0\n"
     ]
    }
   ],
   "source": [
    "# Operator\n",
    "# aritmetika\n",
    "angka1 = 10\n",
    "angka2 = 5\n",
    "\n",
    "print(angka1 + angka2) # ini adalah operator tambah (+)\n",
    "print(angka1 - angka2) # ini adalah operator kurang (-)\n",
    "print(angka1 / angka2) # ini adalah operator bagi (/)\n",
    "print(angka1 * angka2) # ini adalah operator kali (*)\n",
    "print(angka1 ** angka2) # ini adalah operator pangkat (**)\n",
    "print(angka1 % angka2) # ini adalah sisa hasil bagi (%)"
   ]
  },
  {
   "cell_type": "code",
   "execution_count": 22,
   "id": "5deebd5f",
   "metadata": {},
   "outputs": [
    {
     "name": "stdout",
     "output_type": "stream",
     "text": [
      "True\n",
      "False\n",
      "True\n",
      "False\n",
      "False\n",
      "True\n"
     ]
    }
   ],
   "source": [
    "# operator comparison\n",
    "print(angka1 > angka2) # ini akan true\n",
    "print(angka1 < angka2) # false karena lebih kecil\n",
    "print(angka1 >= angka2) # ini akan true\n",
    "print(angka1 <= angka2) # ini akan false\n",
    "print(angka1 == angka2) # ini akan false\n",
    "print(angka1 != angka2) # ini akan true"
   ]
  },
  {
   "cell_type": "code",
   "execution_count": 23,
   "id": "c8030721",
   "metadata": {},
   "outputs": [
    {
     "name": "stdout",
     "output_type": "stream",
     "text": [
      "False\n",
      "True\n",
      "True\n"
     ]
    }
   ],
   "source": [
    "# logical operator (and, or, not)\n",
    "print(angka1 > angka2 and angka1 < angka2) # ini akan false (2 benar)\n",
    "print(angka1 > angka2 or angka1 < angka2) # ini akan true (1 aja benar=benar)\n",
    "print(not(angka1 > angka2 and angka1 < angka2)) # ini kebalikannya"
   ]
  },
  {
   "cell_type": "code",
   "execution_count": 26,
   "id": "38a54ebf",
   "metadata": {},
   "outputs": [
    {
     "name": "stdout",
     "output_type": "stream",
     "text": [
      "6\n",
      "3\n"
     ]
    }
   ],
   "source": [
    "# increment\n",
    "angka = 3\n",
    "# angka = angka + 3\n",
    "angka += 3 # increment\n",
    "print(angka)\n",
    "\n",
    "# drecement\n",
    "angka -= 3\n",
    "print(angka)"
   ]
  },
  {
   "cell_type": "code",
   "execution_count": 27,
   "id": "19dbfaae",
   "metadata": {},
   "outputs": [
    {
     "name": "stdout",
     "output_type": "stream",
     "text": [
      "Dapat A\n"
     ]
    }
   ],
   "source": [
    "# IF\n",
    "nilai = 90\n",
    "\n",
    "# if kondisi:\n",
    "#   kode apabila kondisi true\n",
    "\n",
    "nilai = 90\n",
    "if nilai >= 90: # ini true atau false => true\n",
    "    print(\"Dapat A\")"
   ]
  },
  {
   "cell_type": "code",
   "execution_count": 28,
   "id": "f3c6650d",
   "metadata": {},
   "outputs": [
    {
     "name": "stdout",
     "output_type": "stream",
     "text": [
      "Kurang Gacorr\n"
     ]
    }
   ],
   "source": [
    "# if else\n",
    "nilai = 88\n",
    "if nilai >= 90:\n",
    "    print(\"Dapat A\")\n",
    "else:\n",
    "    print(\"Kurang Gacorr\")"
   ]
  },
  {
   "cell_type": "code",
   "execution_count": 31,
   "id": "152b3a1a",
   "metadata": {},
   "outputs": [
    {
     "name": "stdout",
     "output_type": "stream",
     "text": [
      "D\n"
     ]
    }
   ],
   "source": [
    "# lebih dari 2\n",
    "# if elif else\n",
    "nilai = int(input(\"Masukkan Nilai:\")) # diinput di kolom atas nilainya misal nilainya 55\n",
    "\n",
    "if nilai >= 90:\n",
    "    print(\"A\")\n",
    "elif nilai < 90 and nilai >= 80:\n",
    "    print(\"B\")\n",
    "elif nilai < 80 and nilai >= 70:\n",
    "    print(\"C\")\n",
    "else:\n",
    "    print(\"D\")"
   ]
  },
  {
   "cell_type": "code",
   "execution_count": 32,
   "id": "24d57376",
   "metadata": {},
   "outputs": [],
   "source": [
    "# pass statement => agar kodingan tidak error apabila empty\n",
    "if nilai == 90:\n",
    "    pass"
   ]
  },
  {
   "cell_type": "code",
   "execution_count": 34,
   "id": "4abd02fb",
   "metadata": {},
   "outputs": [
    {
     "name": "stdout",
     "output_type": "stream",
     "text": [
      "halo teman-teman sekalian\n",
      "HALO TEMAN-TEMAN SEKALIAN\n"
     ]
    }
   ],
   "source": [
    "# string lower dan upper\n",
    "\n",
    "teks = \"Halo TEMAN-TEMAN SEKALIAN\"\n",
    "print(teks.lower()) # ini untuk menjadi lowercase\n",
    "print(teks.upper())"
   ]
  },
  {
   "cell_type": "code",
   "execution_count": 40,
   "id": "bbe6a829",
   "metadata": {},
   "outputs": [
    {
     "name": "stdout",
     "output_type": "stream",
     "text": [
      "A Selamat kamu lulus\n"
     ]
    }
   ],
   "source": [
    "# lebih dari 2\n",
    "# if elif else\n",
    "nilai = int(input(\"Masukkan Nilai:\")) # diinput di kolom atas nilainya misal nilainya 55\n",
    "\n",
    "pesan_lulus = \"Selamat kamu lulus\" # itu untuk menampung sesuatu => membuat kodingan lebih efisien\n",
    "\n",
    "if nilai >= 90:\n",
    "    print(\"A\", pesan_lulus)\n",
    "elif nilai < 90 and nilai >= 80:\n",
    "    print(\"B\", pesan_lulus)\n",
    "elif nilai < 80 and nilai >= 70:\n",
    "    print(\"C\", pesan_lulus)\n",
    "else:\n",
    "    print(\"D\")"
   ]
  }
 ],
 "metadata": {
  "kernelspec": {
   "display_name": "Python 3",
   "language": "python",
   "name": "python3"
  },
  "language_info": {
   "codemirror_mode": {
    "name": "ipython",
    "version": 3
   },
   "file_extension": ".py",
   "mimetype": "text/x-python",
   "name": "python",
   "nbconvert_exporter": "python",
   "pygments_lexer": "ipython3",
   "version": "3.13.7"
  }
 },
 "nbformat": 4,
 "nbformat_minor": 5
}
