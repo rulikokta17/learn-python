{
 "cells": [
  {
   "cell_type": "code",
   "execution_count": 6,
   "id": "506b1f27",
   "metadata": {},
   "outputs": [
    {
     "name": "stdout",
     "output_type": "stream",
     "text": [
      "Nama: Rulik\n",
      "Umur: 32\n",
      "Tinggi: 160.2\n"
     ]
    }
   ],
   "source": [
    "Nama = \"Rulik\"\n",
    "\n",
    "Umur = 32\n",
    "\n",
    "Tinggi = 160.2\n",
    "\n",
    "print(\"Nama:\", Nama)\n",
    "print(\"Umur:\", Umur)\n",
    "print(\"Tinggi:\", Tinggi)"
   ]
  },
  {
   "cell_type": "code",
   "execution_count": 9,
   "id": "8ef82a49",
   "metadata": {},
   "outputs": [
    {
     "name": "stdout",
     "output_type": "stream",
     "text": [
      "<class 'str'>\n",
      "<class 'int'>\n",
      "<class 'float'>\n",
      "<class 'bool'>\n"
     ]
    }
   ],
   "source": [
    "teks = \"Python\"\n",
    "\n",
    "angka_bulat = 42\n",
    "\n",
    "angka_desimal = 3.14\n",
    "\n",
    "is_active = True\n",
    "\n",
    "print(type(teks))\n",
    "print(type(angka_bulat))\n",
    "print(type(angka_desimal))\n",
    "print(type(is_active))\n"
   ]
  },
  {
   "cell_type": "code",
   "execution_count": 10,
   "id": "b80b4a94",
   "metadata": {},
   "outputs": [
    {
     "name": "stdout",
     "output_type": "stream",
     "text": [
      "Rulik Oktaviani\n"
     ]
    }
   ],
   "source": [
    "nama_depan = \"Rulik\"\n",
    "\n",
    "nama_belakang = \"Oktaviani\"\n",
    "\n",
    "nama_lengkap = f\"{nama_depan} {nama_belakang}\"\n",
    "\n",
    "print(nama_lengkap)"
   ]
  },
  {
   "cell_type": "code",
   "execution_count": 4,
   "id": "83f9d2ce",
   "metadata": {},
   "outputs": [
    {
     "name": "stdout",
     "output_type": "stream",
     "text": [
      "Angka ini ganjil\n"
     ]
    }
   ],
   "source": [
    "angka = 15\n",
    " \n",
    "if angka % 2 == 0:\n",
    "     \n",
    "     print(\"Angka ini genap\")\n",
    "\n",
    "else:\n",
    "    \n",
    "    print(\"Angka ini ganjil\")"
   ]
  },
  {
   "cell_type": "code",
   "execution_count": 10,
   "id": "d4ab3829",
   "metadata": {},
   "outputs": [
    {
     "name": "stdout",
     "output_type": "stream",
     "text": [
      "For loop:\n",
      "1\n",
      "2\n",
      "3\n",
      "4\n",
      "5\n",
      "\n",
      "while loop:\n",
      "1\n",
      "2\n",
      "3\n",
      "4\n",
      "5\n"
     ]
    }
   ],
   "source": [
    "# For loop\n",
    "\n",
    "print(\"For loop:\")\n",
    "\n",
    "for i in range(1, 6):\n",
    "    \n",
    "    print (i)\n",
    "    \n",
    "# While loop\n",
    "\n",
    "print(\"\\nwhile loop:\")\n",
    "\n",
    "angka = 1\n",
    "\n",
    "while angka <= 5:\n",
    "    \n",
    "    print(angka)\n",
    "    \n",
    "    angka += 1"
   ]
  }
 ],
 "metadata": {
  "kernelspec": {
   "display_name": "Python 3",
   "language": "python",
   "name": "python3"
  },
  "language_info": {
   "codemirror_mode": {
    "name": "ipython",
    "version": 3
   },
   "file_extension": ".py",
   "mimetype": "text/x-python",
   "name": "python",
   "nbconvert_exporter": "python",
   "pygments_lexer": "ipython3",
   "version": "3.13.7"
  }
 },
 "nbformat": 4,
 "nbformat_minor": 5
}
