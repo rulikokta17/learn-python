{
 "cells": [
  {
   "cell_type": "code",
   "execution_count": 30,
   "id": "35d6ff8f",
   "metadata": {},
   "outputs": [
    {
     "name": "stdout",
     "output_type": "stream",
     "text": [
      "Nama saya adalah Farel memiliki nilai 85\n"
     ]
    },
    {
     "data": {
      "text/plain": [
       "'\\nClass = Blueprint / cetakan dari objek\\nObjek = Instansi Nyata dari sebuah class\\nAtribut = data milik objek\\nMethod = Fungsi yang dimiliki oleh class/objek\\ncontoh nyata:\\nclass: Mobil:\\n    atribut: warna, merk, tahun\\n    method: jalan(), berhenti(), klakson()\\n'"
      ]
     },
     "execution_count": 30,
     "metadata": {},
     "output_type": "execute_result"
    }
   ],
   "source": [
    "# Class dan Objek\n",
    "'''\n",
    "docstring = penjelasan/dokumentasi\n",
    "class = blue print (cetakan)\n",
    "analogi => design rumah\n",
    "\n",
    "objek = hasil cetakan/instantiasi\n",
    "analogi => rumah yang sudah jadi/rumah\n",
    "\n",
    "sintax membuat kelas di python:\n",
    "-> awali nama kelas dengan huruf kapital\n",
    "\n",
    "class NamaKelas:\n",
    "    atribut\n",
    "    # method / perilaku / yang bisa dilakukan oleh kelas ini\n",
    "    def nama_method(parameter):\n",
    "        isi method\n",
    "\n",
    "# sintax membuat objek\n",
    "nama_objek = NamaKelas(\"atribut objek\")\n",
    "nama_objek.nama_method(parameter)\n",
    "'''\n",
    "\n",
    "# class Siswa\n",
    "\n",
    "class Siswa: # class dengan nama Siswa\n",
    "    # atribut - atribut => data-datanya\n",
    "    # konstruktor -> default atribut yg harus kita isi ketika membuat objek nantinya\n",
    "    def __init__(self, nama, nilai):\n",
    "        self.nama = nama #atribut nama\n",
    "        self.nilai = nilai # atribut nilai\n",
    "        \n",
    "# method / perilaku -> perkenalan diri dengan nilainya\n",
    "    def perkenalan(self):\n",
    "        print(f\"Nama saya adalah {self.nama} memiliki nilai {self.nilai}\")\n",
    "    # string format ==> cara kita panggil variabel dalam string\n",
    "# membuat objek dari kelas siswa\n",
    "siswa1 = Siswa(\"Farel\", 85)\n",
    "siswa1.perkenalan()\n",
    "\n",
    "\n",
    "'''\n",
    "Class = Blueprint / cetakan dari objek\n",
    "Objek = Instansi Nyata dari sebuah class\n",
    "Atribut = data milik objek\n",
    "Method = Fungsi yang dimiliki oleh class/objek\n",
    "contoh nyata:\n",
    "class: Mobil:\n",
    "    atribut: warna, merk, tahun\n",
    "    method: jalan(), berhenti(), klakson()\n",
    "'''"
   ]
  },
  {
   "cell_type": "code",
   "execution_count": 20,
   "id": "0070f680",
   "metadata": {},
   "outputs": [
    {
     "name": "stdout",
     "output_type": "stream",
     "text": [
      "merk mobil 1: bmw\n",
      "merk mobil 2: lamborghini\n",
      "merk mobil 3: mclaren\n",
      "Warna mobil 1:  merah\n",
      "Warna mobil 1 setelah diubah:  hitam\n",
      "Mobil sedang berjalan\n",
      "Mobil berhenti\n",
      "Mobil Klakson\n"
     ]
    }
   ],
   "source": [
    "# Class mobil\n",
    "class Mobil:\n",
    "    def __init__(self, warna, merk, tahun):\n",
    "        self.warna = warna\n",
    "        self.merk = merk\n",
    "        self.tahun = tahun\n",
    "    def jalan(self):\n",
    "        print(\"Mobil sedang berjalan\")\n",
    "    def berhenti(self):\n",
    "        print(\"Mobil berhenti\")\n",
    "    def klakson(self):\n",
    "        print(\"Mobil Klakson\")\n",
    "        \n",
    "# objek class mobil\n",
    "mobil1 = Mobil(\"merah\", \"bmw\", 2020)\n",
    "mobil2 = Mobil(\"hijau\", \"lamborghini\", 2024)\n",
    "mobil3 = Mobil(\"kuning\", \"mclaren\", 2023)\n",
    "print(\"merk mobil 1:\", mobil1.merk)\n",
    "print(\"merk mobil 2:\", mobil2.merk)\n",
    "print(\"merk mobil 3:\", mobil3.merk)\n",
    "\n",
    "print (\"Warna mobil 1: \", mobil1.warna)\n",
    "# ubah data objek\n",
    "mobil1.warna = \"hitam\"\n",
    "print(\"Warna mobil 1 setelah diubah: \", mobil1.warna)\n",
    "\n",
    "mobil1.jalan()\n",
    "mobil1.berhenti()\n",
    "mobil1.klakson()"
   ]
  },
  {
   "cell_type": "code",
   "execution_count": null,
   "id": "688f9c38",
   "metadata": {},
   "outputs": [
    {
     "name": "stdout",
     "output_type": "stream",
     "text": [
      "Nama akun 1 Angela\n",
      "Jumlah saldo akun 1:  8000\n"
     ]
    }
   ],
   "source": [
    "# Encapsulation = pembungkusan\n",
    "# -> menyembunyikan data (atribut) agar tidak bisa diakses secara langsung dari luar kelas\n",
    "# -> biasanya digunakan untuk melindungi data\n",
    "'''\n",
    "class Akun Bank:\n",
    "    atribut nama, saldo\n",
    "    nama = publik\n",
    "    saldo = private\n",
    "'''\n",
    "\n",
    "class AkunBank:\n",
    "    def __init__(self, nama, saldo):\n",
    "        self.nama = nama # atribut publik\n",
    "        self.__saldo = saldo # atribut private -> ga boleh diakses dari luar kelas\n",
    "\n",
    "    # method setter dan getter\n",
    "    def getSaldo(self):\n",
    "        return self.__saldo\n",
    "\n",
    "# buat objek\n",
    "akun1 = AkunBank(\"Angela\", 8000)\n",
    "print(\"Nama akun 1\", akun1.nama)\n",
    "# print(\"Jumlah saldo akun 1\", akun1.saldo) # akan eror karena private\n",
    "print(\"Jumlah saldo akun 1: \", akun1.getSaldo())\n",
    "\n",
    "'''\n",
    "- Atribut dengan __ didepan bersifat private\n",
    "- Aksesnya harus melalui method setter/getter\n",
    "'''"
   ]
  },
  {
   "cell_type": "code",
   "execution_count": 33,
   "id": "fcf59f58",
   "metadata": {},
   "outputs": [
    {
     "name": "stdout",
     "output_type": "stream",
     "text": [
      "mimi\n",
      "leki\n",
      "guk-guk\n",
      "meong-meong\n"
     ]
    }
   ],
   "source": [
    "# Inheritance = pewarisan\n",
    "# sebuah kelas mewarisi atribut/method dari parent kelas/kelas lain\n",
    "# mirip seperti anak mewarisi sifat orang tuanya\n",
    "\n",
    "class Hewan:\n",
    "    def __init__(self, nama):\n",
    "        self.nama = nama\n",
    "        \n",
    "    def suara(self):\n",
    "        print(\"Hewan mengeluarkan suara\")\n",
    "\n",
    "class Kucing(Hewan): # mewarisi hewan\n",
    "    def suara(self):\n",
    "        print(\"meong-meong\")\n",
    "\n",
    "class Anjing(Hewan):\n",
    "    def suara(self):\n",
    "        print(\"guk-guk\")\n",
    "\n",
    "# objek dari kelas\n",
    "mimi = Kucing(\"mimi\")\n",
    "print(mimi.nama)\n",
    "\n",
    "leki = Anjing(\"leki\")\n",
    "print(leki.nama)\n",
    "leki.suara()\n",
    "mimi.suara()\n",
    "\n",
    "    "
   ]
  },
  {
   "cell_type": "code",
   "execution_count": 34,
   "id": "8293834a",
   "metadata": {},
   "outputs": [
    {
     "name": "stdout",
     "output_type": "stream",
     "text": [
      "suara test\n",
      "guk-guk\n"
     ]
    }
   ],
   "source": [
    "def suara(nama): # ini function\n",
    "    print(\"suara test\")\n",
    "    \n",
    "suara(\"farel\")\n",
    "# method\n",
    "leki.suara()"
   ]
  },
  {
   "cell_type": "code",
   "execution_count": 41,
   "id": "94c772f6",
   "metadata": {},
   "outputs": [
    {
     "name": "stdout",
     "output_type": "stream",
     "text": [
      "\n"
     ]
    }
   ],
   "source": [
    "# file processing\n",
    "file = open(\"./random.txt\", \"r\")\n",
    "konten = file.read()\n",
    "print(konten)\n",
    "file.close()"
   ]
  },
  {
   "cell_type": "code",
   "execution_count": null,
   "id": "c841e8b3",
   "metadata": {},
   "outputs": [],
   "source": [
    "file = open(\"random.txt\", \"w\")\n",
    "file.write(\"Saya ingin membuat file baru\")\n",
    "file.close()"
   ]
  },
  {
   "cell_type": "code",
   "execution_count": 45,
   "id": "d66919f5",
   "metadata": {},
   "outputs": [
    {
     "name": "stdout",
     "output_type": "stream",
     "text": [
      "\n"
     ]
    }
   ],
   "source": [
    "# file processing\n",
    "file = open(\"./random.txt\", \"r\")\n",
    "konten = file.read()\n",
    "print(konten)\n",
    "file.close()"
   ]
  }
 ],
 "metadata": {
  "kernelspec": {
   "display_name": "Python 3",
   "language": "python",
   "name": "python3"
  },
  "language_info": {
   "codemirror_mode": {
    "name": "ipython",
    "version": 3
   },
   "file_extension": ".py",
   "mimetype": "text/x-python",
   "name": "python",
   "nbconvert_exporter": "python",
   "pygments_lexer": "ipython3",
   "version": "3.13.7"
  }
 },
 "nbformat": 4,
 "nbformat_minor": 5
}
