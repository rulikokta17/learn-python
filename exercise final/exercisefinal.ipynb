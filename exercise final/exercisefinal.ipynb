{
 "cells": [
  {
   "cell_type": "code",
   "execution_count": null,
   "id": "8413cbb3",
   "metadata": {},
   "outputs": [],
   "source": [
    "###Exercise sesi 2"
   ]
  },
  {
   "cell_type": "code",
   "execution_count": 2,
   "id": "8a8a719d",
   "metadata": {},
   "outputs": [
    {
     "name": "stdout",
     "output_type": "stream",
     "text": [
      "nama:  Rulik\n",
      "umur:  32\n",
      "tinggi:  160\n"
     ]
    }
   ],
   "source": [
    "nama = \"Rulik\" # string\n",
    "umur = 32 # int\n",
    "tinggi = 160 # float\n",
    "print(\"nama: \", nama)\n",
    "print(\"umur: \", umur)\n",
    "print(\"tinggi: \", tinggi)"
   ]
  },
  {
   "cell_type": "code",
   "execution_count": 3,
   "id": "0e2f4da8",
   "metadata": {},
   "outputs": [
    {
     "name": "stdout",
     "output_type": "stream",
     "text": [
      "<class 'str'>\n",
      "<class 'int'>\n",
      "<class 'float'>\n",
      "<class 'bool'>\n"
     ]
    }
   ],
   "source": [
    "teks = \"Python\"\n",
    "angka_bulat = 42\n",
    "angka_desimal = 3.14\n",
    "is_active = True\n",
    "print(type(teks))\n",
    "print(type(angka_bulat))\n",
    "print(type(angka_desimal))\n",
    "print(type(is_active))"
   ]
  },
  {
   "cell_type": "code",
   "execution_count": 4,
   "id": "02c400a1",
   "metadata": {},
   "outputs": [
    {
     "name": "stdout",
     "output_type": "stream",
     "text": [
      "Rulik Oktaviani\n"
     ]
    }
   ],
   "source": [
    "nama_depan = \"Rulik\"\n",
    "nama_belakang = \"Oktaviani\"\n",
    "nama_lengkap = f\"{nama_depan} {nama_belakang}\"\n",
    "print(nama_lengkap)"
   ]
  },
  {
   "cell_type": "code",
   "execution_count": 5,
   "id": "6bb4f7a0",
   "metadata": {},
   "outputs": [
    {
     "name": "stdout",
     "output_type": "stream",
     "text": [
      "Angka ini Ganjil\n"
     ]
    }
   ],
   "source": [
    "angka = 15\n",
    "if angka % 2 == 0:\n",
    "    print(\"Angka ini Genap\")\n",
    "else:\n",
    "    print(\"Angka ini Ganjil\")\n",
    "    "
   ]
  },
  {
   "cell_type": "code",
   "execution_count": null,
   "id": "d6766731",
   "metadata": {},
   "outputs": [
    {
     "name": "stdout",
     "output_type": "stream",
     "text": [
      "For Loop:\n",
      "1\n",
      "2\n",
      "3\n",
      "4\n",
      "5\n",
      "\n",
      "While loop:\n",
      "1\n",
      "2\n",
      "3\n",
      "4\n",
      "5\n"
     ]
    }
   ],
   "source": [
    "print(\"For Loop:\")\n",
    "for i in range(1, 6):\n",
    "    print(i)\n",
    "print(\"\\nWhile loop:\") # \\n adalah spasi atau baris baru\n",
    "angka = 1\n",
    "while angka <= 5:\n",
    "    print(angka)\n",
    "    angka += 1"
   ]
  },
  {
   "cell_type": "code",
   "execution_count": null,
   "id": "e3c6f8d2",
   "metadata": {},
   "outputs": [],
   "source": [
    "### Exercise Sesi 3"
   ]
  }
 ],
 "metadata": {
  "kernelspec": {
   "display_name": "Python 3",
   "language": "python",
   "name": "python3"
  },
  "language_info": {
   "codemirror_mode": {
    "name": "ipython",
    "version": 3
   },
   "file_extension": ".py",
   "mimetype": "text/x-python",
   "name": "python",
   "nbconvert_exporter": "python",
   "pygments_lexer": "ipython3",
   "version": "3.13.7"
  }
 },
 "nbformat": 4,
 "nbformat_minor": 5
}
