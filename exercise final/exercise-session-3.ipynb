{
 "cells": [
  {
   "cell_type": "markdown",
   "metadata": {
    "id": "wMoXtBtzCWef"
   },
   "source": [
    "## Latihan 1: List (Daftar)\n",
    "\n",
    "### Soal:\n",
    "1. Buat sebuah list bernama `hewan` yang berisi: \"kucing\", \"kelinci\", \"burung\".\n",
    "2. Tambahkan \"ikan\" ke akhir list.\n",
    "3. Ubah \"burung\" menjadi \"ayam\".\n",
    "4. Hapus \"kelinci\" dari list.\n",
    "5. Cetak list akhir dan panjang list.\n",
    "\n",
    "### Contoh Output:\n",
    "```python\n",
    "['kucing', 'ayam', 'ikan']\n",
    "Panjang list: 3\n",
    "```\n"
   ]
  },
  {
   "cell_type": "code",
   "execution_count": null,
   "metadata": {
    "id": "h1FYC1QxCWeh"
   },
   "outputs": [
    {
     "name": "stdout",
     "output_type": "stream",
     "text": [
      "['kucing', 'ayam', 'ikan']\n",
      "Panjang list: 3\n"
     ]
    }
   ],
   "source": [
    "#Tulis Kode Disini\n",
    "hewan = [\"kucing\", \"kelinci\", \"burung\"]\n",
    "hewan.append(\"ikan\") # 2\n",
    "hewan[2] = \"ayam\" # 3\n",
    "hewan.remove(\"kelinci\") # 4\n",
    "print(hewan)\n",
    "print(\"Panjang list:\", len(hewan))"
   ]
  },
  {
   "cell_type": "markdown",
   "metadata": {
    "id": "uewFJIRJCWei"
   },
   "source": [
    "## Latihan 2: Set (Himpunan)\n",
    "\n",
    "### Soal:\n",
    "1. Buat dua set:\n",
    "   ```python\n",
    "   buah_a = {\"apel\", \"mangga\", \"jeruk\"}\n",
    "   buah_b = {\"mangga\", \"anggur\", \"pisang\"}\n",
    "   ```\n",
    "2. Cari buah yang ada di kedua set (irisan).\n",
    "\n",
    "3. Cari buah yang hanya ada di buah_a.\n",
    "\n",
    "4. Tambahkan \"nanas\" ke buah_a.\n",
    "\n",
    "5. Cetak hasilnya\n",
    "\n",
    "### Contoh Output\n",
    "```python\n",
    "Irisan: {'mangga'}  \n",
    "Buah hanya di A: {'apel', 'jeruk'}  \n",
    "Buah A setelah ditambah: {'apel', 'jeruk', 'mangga', 'nanas'}\n",
    "```"
   ]
  },
  {
   "cell_type": "code",
   "execution_count": 5,
   "metadata": {
    "colab": {
     "base_uri": "https://localhost:8080/"
    },
    "executionInfo": {
     "elapsed": 48,
     "status": "ok",
     "timestamp": 1760773904477,
     "user": {
      "displayName": "Ario",
      "userId": "17610969781016079571"
     },
     "user_tz": -420
    },
    "id": "NGQWEWpeCWei",
    "outputId": "2b80b0d2-a661-4a11-d08e-fe7c445295e3"
   },
   "outputs": [
    {
     "name": "stdout",
     "output_type": "stream",
     "text": [
      "Irisan:  {'mangga'}\n",
      "Buah hanya di A:  {'jeruk', 'apel'}\n",
      "Buah A setelah ditambah:  {'jeruk', 'nanas', 'mangga', 'apel'}\n"
     ]
    }
   ],
   "source": [
    "# Tulis Kode Di sini\n",
    "buah_a = {\"apel\", \"mangga\", \"jeruk\"}\n",
    "buah_b = {\"mangga\", \"anggur\", \"pisang\"}\n",
    "print(\"Irisan: \", buah_a & buah_b)\n",
    "print(\"Buah hanya di A: \", buah_a - buah_b)\n",
    "buah_a.add(\"nanas\")\n",
    "print(\"Buah A setelah ditambah: \", buah_a)"
   ]
  },
  {
   "cell_type": "markdown",
   "metadata": {
    "id": "b_wCI8ChCWei"
   },
   "source": [
    "## Latihan 3: Dictionary (Kamus)\n",
    "\n",
    "### Soal:\n",
    "1. Buat dictionary `nilai_siswa` dengan data:\n",
    "   ```python\n",
    "   nilai_siswa = {\n",
    "       \"Andi\": 85,\n",
    "       \"Budi\": 70,\n",
    "       \"Cici\": 90\n",
    "   }\n",
    "   ```\n",
    "2. Tambahkan data \"Dedi\" dengan nilai 75.\n",
    "\n",
    "3. Hapus data \"Budi\".\n",
    "\n",
    "4. Cetak semua nama siswa yang nilainya di atas 80.\n",
    "\n",
    "5. Cetak rata-rata nilai siswa\n",
    "\n",
    "### Contoh Output\n",
    "```python\n",
    "Siswa dengan nilai >80: ['Andi', 'Cici']  \n",
    "Rata-rata nilai: 83.33\n",
    "```"
   ]
  },
  {
   "cell_type": "code",
   "execution_count": null,
   "metadata": {
    "colab": {
     "base_uri": "https://localhost:8080/"
    },
    "executionInfo": {
     "elapsed": 39,
     "status": "ok",
     "timestamp": 1760774830733,
     "user": {
      "displayName": "Ario",
      "userId": "17610969781016079571"
     },
     "user_tz": -420
    },
    "id": "SOnmYDBDCWej",
    "outputId": "7a7a8eb4-1adb-426f-baf6-3a94ab0c7b84"
   },
   "outputs": [
    {
     "name": "stdout",
     "output_type": "stream",
     "text": [
      "Siswa dengan nilai > 80:  ['Andi', 'cici']\n",
      "250\n",
      "Rata-rata Nilai:  83.33\n"
     ]
    }
   ],
   "source": [
    "#Tulis Kode Disini\n",
    "nilai_siswa = {\n",
    "    \"Andi\": 85,\n",
    "    \"Budi\": 70,\n",
    "    \"cici\": 90\n",
    "} # key: value\n",
    "nilai_siswa[\"Dedi\"] = 75 # 2\n",
    "del nilai_siswa[\"Budi\"] # 3\n",
    "\n",
    "nilai_80 = []\n",
    "total_nilai = 0 # tampung nilai\n",
    "\n",
    "for nama, nilai in nilai_siswa.items():\n",
    "    # cek nilai\n",
    "    if nilai > 80:\n",
    "        nilai_80.append(nama)\n",
    "\n",
    "    # tambah nilai ke total nilai\n",
    "    total_nilai = total_nilai + nilai # bisa pakai total_nilai += nilai\n",
    "        \n",
    "print(\"Siswa dengan nilai > 80: \", nilai_80)\n",
    "rerata = total_nilai / len(nilai_siswa)\n",
    "print(total_nilai)\n",
    "print(\"Rata-rata Nilai: \", round(rerata, 2))"
   ]
  },
  {
   "cell_type": "markdown",
   "metadata": {
    "id": "HKqZPpSlCWej"
   },
   "source": [
    "## Latihan 4: Function (Fungsi)\n",
    "\n",
    "### Soal:\n",
    "1. Buat fungsi `hitung_faktorial(n)` yang mengembalikan faktorial dari bilangan `n`.\n",
    "   - Contoh: `hitung_faktorial(5)` = 5\\*4\\*3\\*2\\*1 = 120\n",
    "\n",
    "2. Buat fungsi `cek_genap_ganjil(angka)` yang mengembalikan \"genap\" jika angka habis dibagi 2, atau \"ganjil\" jika tidak.\n",
    "\n",
    "3. Tes fungsi dengan input:\n",
    "   ```python\n",
    "   hitung_faktorial(4)\n",
    "   cek_genap_ganjil(7)\n",
    "   ```\n",
    "### Contoh Output\n",
    "```python\n",
    "Faktorial 4: 24  \n",
    "7 adalah ganjil\n",
    "```"
   ]
  },
  {
   "cell_type": "code",
   "execution_count": 18,
   "metadata": {
    "id": "ZLHdVLnHCWek"
   },
   "outputs": [
    {
     "name": "stdout",
     "output_type": "stream",
     "text": [
      "Faktorial 4:  24\n",
      "Nilai 7:  Ganjil\n"
     ]
    }
   ],
   "source": [
    "#Tulis Kode Disini\n",
    "def hitung_faktorial(n):\n",
    "    hasil = 1\n",
    "    for i in range(1, n + 1):\n",
    "        hasil = hasil * i\n",
    "    return hasil\n",
    "\n",
    "print(\"Faktorial 4: \", hitung_faktorial(4))\n",
    "\n",
    "def cek_genap_ganjil(angka):\n",
    "    if angka % 2 == 0:\n",
    "        return \"Genap\"\n",
    "    else:\n",
    "        return \"Ganjil\"\n",
    "    \n",
    "print(\"Nilai 7: \", cek_genap_ganjil(7))"
   ]
  },
  {
   "cell_type": "markdown",
   "metadata": {
    "id": "mPLUQp9kCWek"
   },
   "source": [
    "## Latihan 5: Loop (Perulangan)\n",
    "\n",
    "### Soal:\n",
    "1. Gunakan loop `for` untuk mencetak bilangan ganjil dari 1 sampai 10.\n",
    "2. Gunakan loop `while` untuk menghitung mundur dari 5 ke 1.\n",
    "3. Dari list `angka = [3, 7, 2, 9, 5]`, hitung jumlah bilangan yang lebih besar dari 4 menggunakan loop.\n",
    "\n",
    "### Contoh Output:\n",
    "```python\n",
    "Bilangan ganjil: 1 3 5 7 9\n",
    "Hitungan mundur: 5 4 3 2 1\n",
    "Jumlah angka > 4: 3\n"
   ]
  },
  {
   "cell_type": "code",
   "execution_count": 24,
   "metadata": {
    "id": "r3O8BV9tCWek"
   },
   "outputs": [
    {
     "name": "stdout",
     "output_type": "stream",
     "text": [
      "Bilangan Ganjil: \n",
      "1 3 5 7 9 \n",
      "\n",
      "Hitungan Mundur: \n",
      "5 4 3 2 1 \n",
      "\n",
      "Jumlah Angka > 4, besar_4\n"
     ]
    }
   ],
   "source": [
    "# Tulis Kode Disini\n",
    "print(\"Bilangan Ganjil: \")\n",
    "for i in range(1, 10, 2):\n",
    "    print(i, end=\" \")\n",
    "\n",
    "print(\"\\n\")\n",
    "print(\"Hitungan Mundur: \")    \n",
    "angka = 5\n",
    "while angka >= 1:\n",
    "    print(angka, end= \" \")\n",
    "    angka = angka - 1\n",
    "\n",
    "print(\"\\n\")\n",
    "besar_4 = 0\n",
    "angka = [3, 7, 2, 9, 5]\n",
    "for i in angka:\n",
    "    if i > 4:\n",
    "        besar_4 = besar_4 + 1\n",
    "\n",
    "print(\"Jumlah Angka > 4, besar_4\")"
   ]
  },
  {
   "cell_type": "markdown",
   "metadata": {
    "id": "9QrT-BmXCWel"
   },
   "source": [
    "## Latihan Bonus: Gabungan Konsep\n",
    "\n",
    "### Soal:\n",
    "1. Buat program untuk menghitung frekuensi kemunculan huruf dalam sebuah kata menggunakan dictionary.\n",
    "   \n",
    "### Contoh:\n",
    "   ```python\n",
    "   Input: \"python\"\n",
    "   Output: {'p': 1, 'y': 1, 't': 1, 'h': 1, 'o': 1, 'n': 1}\n",
    "\n",
    "```\n",
    "### Tips:\n",
    "\n",
    "- Gunakan loop untuk iterasi tiap karakter.\n",
    "\n",
    "- Gunakan dictionary untuk menyimpan hitungan.\n",
    "\n"
   ]
  },
  {
   "cell_type": "code",
   "execution_count": 27,
   "metadata": {
    "id": "ZaPT4DMACWel"
   },
   "outputs": [
    {
     "name": "stdout",
     "output_type": "stream",
     "text": [
      "Input:  joseph zeldagne\n",
      "Output {'j': 1, 'o': 1, 's': 1, 'e': 3, 'p': 1, 'h': 1, ' ': 1, 'z': 1, 'l': 1, 'd': 1, 'a': 1, 'g': 1, 'n': 1}\n",
      "Input:  edy wybowo\n",
      "Output {'e': 1, 'd': 1, 'y': 2, ' ': 1, 'w': 2, 'b': 1, 'o': 2}\n"
     ]
    }
   ],
   "source": [
    "# Tulis Kode Disini\n",
    "\"\"\"\n",
    "angela\n",
    "a:2, n:1, g:1, e:1, l:1\n",
    "\"\"\"\n",
    "def frekuensi_huruf(kata):\n",
    "    frekuensi = {} # kosong\n",
    "    for huruf in kata:\n",
    "        if huruf in frekuensi:\n",
    "            frekuensi[huruf] = frekuensi[huruf] + 1\n",
    "        else:\n",
    "            frekuensi[huruf] = 1\n",
    "    return frekuensi\n",
    "\n",
    "kata = \"joseph zeldagne\"\n",
    "kata2 = \"edy wybowo\"\n",
    "print(\"Input: \", kata)\n",
    "print(\"Output\", frekuensi_huruf(kata))\n",
    "print(\"Input: \", kata2)\n",
    "print(\"Output\", frekuensi_huruf(kata2))"
   ]
  }
 ],
 "metadata": {
  "colab": {
   "provenance": []
  },
  "kernelspec": {
   "display_name": "Python 3",
   "language": "python",
   "name": "python3"
  },
  "language_info": {
   "codemirror_mode": {
    "name": "ipython",
    "version": 3
   },
   "file_extension": ".py",
   "mimetype": "text/x-python",
   "name": "python",
   "nbconvert_exporter": "python",
   "pygments_lexer": "ipython3",
   "version": "3.13.7"
  }
 },
 "nbformat": 4,
 "nbformat_minor": 0
}
